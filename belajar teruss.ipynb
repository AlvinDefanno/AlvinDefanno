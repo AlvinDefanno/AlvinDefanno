{
  "nbformat": 4,
  "nbformat_minor": 0,
  "metadata": {
    "colab": {
      "provenance": [],
      "toc_visible": true,
      "authorship_tag": "ABX9TyOLMCUDlxxegKw6r6yu3s4G",
      "include_colab_link": true
    },
    "kernelspec": {
      "name": "python3",
      "display_name": "Python 3"
    },
    "language_info": {
      "name": "python"
    }
  },
  "cells": [
    {
      "cell_type": "markdown",
      "metadata": {
        "id": "view-in-github",
        "colab_type": "text"
      },
      "source": [
        "<a href=\"https://colab.research.google.com/github/AlvinDefanno/AlvinDefanno/blob/main/belajar%20teruss.ipynb\" target=\"_parent\"><img src=\"https://colab.research.google.com/assets/colab-badge.svg\" alt=\"Open In Colab\"/></a>"
      ]
    },
    {
      "cell_type": "code",
      "execution_count": null,
      "metadata": {
        "id": "0bMt5QMzBXqc"
      },
      "outputs": [],
      "source": [
        "def f1(input):\n",
        "  \"\"\"add 1 to input\"\"\"\n",
        "  output=input+1;\n",
        "  return output"
      ]
    },
    {
      "cell_type": "code",
      "source": [
        "def f2(input):\n",
        "  \"\"\"add 2 to input\"\"\"\n",
        "  output=input*2;\n",
        "  return output"
      ],
      "metadata": {
        "id": "zl_zTPIsBm2v"
      },
      "execution_count": null,
      "outputs": []
    },
    {
      "cell_type": "markdown",
      "source": [
        "Di bawah ini merupakan Sum"
      ],
      "metadata": {
        "id": "QLdgLSc4EgCO"
      }
    },
    {
      "cell_type": "code",
      "source": [
        "album_ratings = [10.0,8.5,9.5,7.0,7.0,9.5,9.0,9.5]\n",
        "S=sum(album_ratings)\n",
        "S"
      ],
      "metadata": {
        "colab": {
          "base_uri": "https://localhost:8080/"
        },
        "id": "TNFyDOLOCT-D",
        "outputId": "fd508db8-9dc9-414f-df9d-beaf82453cee"
      },
      "execution_count": null,
      "outputs": [
        {
          "output_type": "execute_result",
          "data": {
            "text/plain": [
              "70.0"
            ]
          },
          "metadata": {},
          "execution_count": 13
        }
      ]
    },
    {
      "cell_type": "markdown",
      "source": [
        "Di bawah ini merupakan Sorted"
      ],
      "metadata": {
        "id": "VAeVAMilEBQg"
      }
    },
    {
      "cell_type": "code",
      "source": [
        "album_ratings = [10.0,8.5,9.5,7.0,7.0,9.5,9.0,9.5]\n",
        "sorted_album_ratings=sorted (album_ratings)\n",
        "sorted_album_ratings"
      ],
      "metadata": {
        "colab": {
          "base_uri": "https://localhost:8080/"
        },
        "id": "kGbIX2_mDBDn",
        "outputId": "c23de103-371f-482b-ce15-81863e7aa098"
      },
      "execution_count": null,
      "outputs": [
        {
          "output_type": "execute_result",
          "data": {
            "text/plain": [
              "[7.0, 7.0, 8.5, 9.0, 9.5, 9.5, 9.5, 10.0]"
            ]
          },
          "metadata": {},
          "execution_count": 18
        }
      ]
    },
    {
      "cell_type": "markdown",
      "source": [
        "Di bawah ini merupakan Sort"
      ],
      "metadata": {
        "id": "CSIbwtBiEIFr"
      }
    },
    {
      "cell_type": "code",
      "source": [
        "album_ratings = [10.0,8.5,9.5,7.0,7.0,9.5,9.0,9.5]\n",
        "album_ratings.sort()\n",
        "album_ratings"
      ],
      "metadata": {
        "colab": {
          "base_uri": "https://localhost:8080/"
        },
        "id": "sIjjeZHTDo6T",
        "outputId": "ae730a36-6b2b-401f-fc19-15327a8142b6"
      },
      "execution_count": null,
      "outputs": [
        {
          "output_type": "execute_result",
          "data": {
            "text/plain": [
              "[7.0, 7.0, 8.5, 9.0, 9.5, 9.5, 9.5, 10.0]"
            ]
          },
          "metadata": {},
          "execution_count": 21
        }
      ]
    },
    {
      "cell_type": "code",
      "source": [
        "def add1(a):\n",
        "  b=a+1\n",
        "  return b\n",
        "  c=add1(5)\n",
        "  print(c)"
      ],
      "metadata": {
        "id": "eLQ-Hyr5EV2M"
      },
      "execution_count": null,
      "outputs": []
    },
    {
      "cell_type": "markdown",
      "source": [
        "Multiple Parameters"
      ],
      "metadata": {
        "id": "xKYKWzK0FqG7"
      }
    },
    {
      "cell_type": "code",
      "source": [
        "def mult(a,b):\n",
        "  c=a*b\n",
        "  return c\n",
        "mult(2,3)"
      ],
      "metadata": {
        "colab": {
          "base_uri": "https://localhost:8080/"
        },
        "id": "6H5x68TdEwzj",
        "outputId": "fda8b387-3e71-405d-c732-2ed7be53d00b"
      },
      "execution_count": null,
      "outputs": [
        {
          "output_type": "execute_result",
          "data": {
            "text/plain": [
              "6"
            ]
          },
          "metadata": {},
          "execution_count": 36
        }
      ]
    },
    {
      "cell_type": "code",
      "source": [
        "def MJ():\n",
        "    print('Micahel Jackson')\n"
      ],
      "metadata": {
        "id": "sgiFjgdEFkIA"
      },
      "execution_count": null,
      "outputs": []
    },
    {
      "cell_type": "code",
      "source": [
        "def NoWork():\n",
        "  pass\n",
        "print(NoWork())\n",
        "\n"
      ],
      "metadata": {
        "colab": {
          "base_uri": "https://localhost:8080/"
        },
        "id": "SojUtr7_GBoZ",
        "outputId": "527f742b-c8db-4a09-8f7e-43961369a42e"
      },
      "execution_count": null,
      "outputs": [
        {
          "output_type": "stream",
          "name": "stdout",
          "text": [
            "None\n"
          ]
        }
      ]
    },
    {
      "cell_type": "code",
      "source": [
        "def add1(a):\n",
        "  b=a+1;\n",
        "  print(2,\"plus 1 equals\",3)\n",
        "  return b\n"
      ],
      "metadata": {
        "id": "7tT9XpzAGlsf"
      },
      "execution_count": null,
      "outputs": []
    },
    {
      "cell_type": "code",
      "source": [
        "def printStuff(Stuff):\n",
        "  for i,s in enumerate(Stuff):\n",
        "    print(\"Album\",i,\"Rating is\",s)\n",
        "    album_ratings=[10.0,8.5,9.5]\n",
        "    printstuff(album_ratings)"
      ],
      "metadata": {
        "id": "sq4H8JzYG0mC"
      },
      "execution_count": null,
      "outputs": []
    },
    {
      "cell_type": "markdown",
      "source": [
        "Collceting arguments"
      ],
      "metadata": {
        "id": "EUyreyA-ID2w"
      }
    },
    {
      "cell_type": "code",
      "source": [
        " def ArtistNames(*names):\n",
        "   \n",
        "  for name in names:\n",
        "     names=(\"Micahel Jackson\",\"AC/DC\")\n",
        "     print(names)\n",
        "  \n",
        "     ArtistNames(\"Michael Jacson\",\"AC/DC\")\n",
        "     ArtistNames"
      ],
      "metadata": {
        "id": "5fPt4JgNHeqa"
      },
      "execution_count": null,
      "outputs": []
    },
    {
      "cell_type": "code",
      "source": [],
      "metadata": {
        "id": "1tdVC3uTygGv"
      },
      "execution_count": null,
      "outputs": []
    },
    {
      "cell_type": "code",
      "source": [],
      "metadata": {
        "id": "UD3lsm76ygeQ"
      },
      "execution_count": null,
      "outputs": []
    },
    {
      "cell_type": "markdown",
      "source": [
        "Scope"
      ],
      "metadata": {
        "id": "k7ESHPzvK-jV"
      }
    },
    {
      "cell_type": "code",
      "source": [
        "def addDC(y):\n",
        "  x=x+\"DC\"\n",
        "  print(x)\n",
        "  return(x)\n",
        "  \n",
        "  x=\"AC\"\n",
        "  z=AddDC(x)\n"
      ],
      "metadata": {
        "id": "Fw1dohzXJ1Yz"
      },
      "execution_count": null,
      "outputs": []
    },
    {
      "cell_type": "code",
      "source": [
        "def Thriller():\n",
        "  Date=1982\n",
        "  return(Date)\n",
        "\n",
        "  Date=2017\n",
        "\n",
        "  Print(Thriller())\n",
        "  Print(Date)"
      ],
      "metadata": {
        "id": "JoRz8fXxLF9B"
      },
      "execution_count": null,
      "outputs": []
    },
    {
      "cell_type": "markdown",
      "source": [
        "# Bagian Baru"
      ],
      "metadata": {
        "id": "WAjysScaeAQt"
      }
    },
    {
      "cell_type": "markdown",
      "source": [
        "# Bagian Baru"
      ],
      "metadata": {
        "id": "aWG39N6seBd3"
      }
    },
    {
      "cell_type": "code",
      "source": [
        "def ACDC(y):\n",
        "  print(Rating)\n",
        "  return(Rating+y)\n",
        "\n",
        "  Rating=9\n",
        "  \n",
        "  z=ACDC(1)\n",
        "\n",
        "  print(Rating)\n",
        "  "
      ],
      "metadata": {
        "id": "KJk0cesEL0hh"
      },
      "execution_count": null,
      "outputs": []
    },
    {
      "cell_type": "code",
      "source": [
        "def PinkFloyd():\n",
        "  global ClaimedSales\n",
        "  ClaimedSales='45 million'\n",
        "  return ClaimedSales\n",
        "\n",
        "  PinkFloyd()\n",
        "  ClaimedSales"
      ],
      "metadata": {
        "id": "D23DuKztMn5D"
      },
      "execution_count": null,
      "outputs": []
    },
    {
      "cell_type": "code",
      "source": [],
      "metadata": {
        "id": "xLhrWYBRNtfR"
      },
      "execution_count": null,
      "outputs": []
    }
  ]
}